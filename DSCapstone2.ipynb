{
  "nbformat": 4,
  "nbformat_minor": 0,
  "metadata": {
    "colab": {
      "name": "DSCapstone2.ipynb",
      "provenance": [],
      "authorship_tag": "ABX9TyMVAed/OoWaoI1R+4EZHbR6",
      "include_colab_link": true
    },
    "kernelspec": {
      "name": "python3",
      "display_name": "Python 3"
    }
  },
  "cells": [
    {
      "cell_type": "markdown",
      "metadata": {
        "id": "view-in-github",
        "colab_type": "text"
      },
      "source": [
        "<a href=\"https://colab.research.google.com/github/sdilraj/CTCI_Collab/blob/master/DSCapstone2.ipynb\" target=\"_parent\"><img src=\"https://colab.research.google.com/assets/colab-badge.svg\" alt=\"Open In Colab\"/></a>"
      ]
    },
    {
      "cell_type": "code",
      "metadata": {
        "id": "_YaenLGT9VSK",
        "colab_type": "code",
        "colab": {
          "base_uri": "https://localhost:8080/",
          "height": 34
        },
        "outputId": "684d50be-2e04-44af-96c9-ddc830a675d8"
      },
      "source": [
        "pip install BeautifulSoup4"
      ],
      "execution_count": 2,
      "outputs": [
        {
          "output_type": "stream",
          "text": [
            "Requirement already satisfied: BeautifulSoup4 in /usr/local/lib/python3.6/dist-packages (4.6.3)\n"
          ],
          "name": "stdout"
        }
      ]
    },
    {
      "cell_type": "code",
      "metadata": {
        "id": "DML1bNYi9afX",
        "colab_type": "code",
        "colab": {}
      },
      "source": [
        "import pandas as pd\n",
        "import numpy as np\n",
        "\n",
        "import requests\n",
        "\n",
        "from bs4 import BeautifulSoup"
      ],
      "execution_count": 0,
      "outputs": []
    },
    {
      "cell_type": "code",
      "metadata": {
        "id": "CSEXgcWJ9pd9",
        "colab_type": "code",
        "colab": {}
      },
      "source": [
        "URL = 'https://www.wikizeroo.org/index.php?q=aHR0cHM6Ly9lbi53aWtpcGVkaWEub3JnL3dpa2kvTGlzdF9vZl9wb3N0YWxfY29kZXNfb2ZfQ2FuYWRhOl9N'\n",
        "r = requests.get(URL) \n",
        "soup = BeautifulSoup(r.content, 'html5lib') \n",
        "table = soup.find('div', attrs = {'id':'container'}) \n"
      ],
      "execution_count": 0,
      "outputs": []
    },
    {
      "cell_type": "code",
      "metadata": {
        "id": "TbQC9gso92zs",
        "colab_type": "code",
        "colab": {
          "base_uri": "https://localhost:8080/",
          "height": 289
        },
        "outputId": "73f73b45-197e-4e3a-8858-8bc1906c40ef"
      },
      "source": [
        "#pip install geocoder"
      ],
      "execution_count": 8,
      "outputs": [
        {
          "output_type": "stream",
          "text": [
            "Collecting geocoder\n",
            "\u001b[?25l  Downloading https://files.pythonhosted.org/packages/4f/6b/13166c909ad2f2d76b929a4227c952630ebaf0d729f6317eb09cbceccbab/geocoder-1.38.1-py2.py3-none-any.whl (98kB)\n",
            "\r\u001b[K     |███▎                            | 10kB 16.9MB/s eta 0:00:01\r\u001b[K     |██████▋                         | 20kB 2.2MB/s eta 0:00:01\r\u001b[K     |██████████                      | 30kB 2.8MB/s eta 0:00:01\r\u001b[K     |█████████████▎                  | 40kB 3.1MB/s eta 0:00:01\r\u001b[K     |████████████████▋               | 51kB 2.5MB/s eta 0:00:01\r\u001b[K     |████████████████████            | 61kB 2.8MB/s eta 0:00:01\r\u001b[K     |███████████████████████▎        | 71kB 3.1MB/s eta 0:00:01\r\u001b[K     |██████████████████████████▋     | 81kB 3.4MB/s eta 0:00:01\r\u001b[K     |██████████████████████████████  | 92kB 3.6MB/s eta 0:00:01\r\u001b[K     |████████████████████████████████| 102kB 2.8MB/s \n",
            "\u001b[?25hRequirement already satisfied: requests in /usr/local/lib/python3.6/dist-packages (from geocoder) (2.23.0)\n",
            "Requirement already satisfied: click in /usr/local/lib/python3.6/dist-packages (from geocoder) (7.1.2)\n",
            "Requirement already satisfied: future in /usr/local/lib/python3.6/dist-packages (from geocoder) (0.16.0)\n",
            "Requirement already satisfied: six in /usr/local/lib/python3.6/dist-packages (from geocoder) (1.12.0)\n",
            "Collecting ratelim\n",
            "  Downloading https://files.pythonhosted.org/packages/f2/98/7e6d147fd16a10a5f821db6e25f192265d6ecca3d82957a4fdd592cad49c/ratelim-0.1.6-py2.py3-none-any.whl\n",
            "Requirement already satisfied: urllib3!=1.25.0,!=1.25.1,<1.26,>=1.21.1 in /usr/local/lib/python3.6/dist-packages (from requests->geocoder) (1.24.3)\n",
            "Requirement already satisfied: chardet<4,>=3.0.2 in /usr/local/lib/python3.6/dist-packages (from requests->geocoder) (3.0.4)\n",
            "Requirement already satisfied: certifi>=2017.4.17 in /usr/local/lib/python3.6/dist-packages (from requests->geocoder) (2020.4.5.1)\n",
            "Requirement already satisfied: idna<3,>=2.5 in /usr/local/lib/python3.6/dist-packages (from requests->geocoder) (2.9)\n",
            "Requirement already satisfied: decorator in /usr/local/lib/python3.6/dist-packages (from ratelim->geocoder) (4.4.2)\n",
            "Installing collected packages: ratelim, geocoder\n",
            "Successfully installed geocoder-1.38.1 ratelim-0.1.6\n"
          ],
          "name": "stdout"
        }
      ]
    },
    {
      "cell_type": "code",
      "metadata": {
        "id": "tEntlBtVBMSF",
        "colab_type": "code",
        "colab": {}
      },
      "source": [
        "import geocoder"
      ],
      "execution_count": 0,
      "outputs": []
    },
    {
      "cell_type": "code",
      "metadata": {
        "id": "tW9y_gZ3BWxS",
        "colab_type": "code",
        "colab": {}
      },
      "source": [
        "Postalcode = []\n",
        "latitude = []\n",
        "longitude = []\n",
        "\n",
        "for element in Postalcode:\n",
        "  lat_lng_coords = None\n",
        "\n",
        "  while (lat_lng_coords is None):\n",
        "    g = geocoder.google('{}, Toronto, Ontario'. format(element))\n",
        "    lat_lng_coords = g.lat_lng_coords\n",
        "\n",
        "  latitude.append(lat_lng_coords[0])\n",
        "  longitude.append(lat_lng_coords[1])"
      ],
      "execution_count": 0,
      "outputs": []
    },
    {
      "cell_type": "code",
      "metadata": {
        "id": "0fGav2yoB68z",
        "colab_type": "code",
        "colab": {}
      },
      "source": [
        ""
      ],
      "execution_count": 0,
      "outputs": []
    }
  ]
}